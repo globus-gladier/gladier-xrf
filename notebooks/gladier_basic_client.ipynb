{
 "metadata": {
  "language_info": {
   "codemirror_mode": {
    "name": "ipython",
    "version": 3
   },
   "file_extension": ".py",
   "mimetype": "text/x-python",
   "name": "python",
   "nbconvert_exporter": "python",
   "pygments_lexer": "ipython3",
   "version": "3.8.5"
  },
  "orig_nbformat": 2,
  "kernelspec": {
   "name": "python385jvsc74a57bd029c7d61c0b705a1e0ee1ff93d2482337e8314a272648cd14c87bbb9c779684f0",
   "display_name": "Python 3.8.5 64-bit ('funcx': conda)"
  }
 },
 "nbformat": 4,
 "nbformat_minor": 2,
 "cells": [
  {
   "cell_type": "code",
   "execution_count": null,
   "metadata": {},
   "outputs": [],
   "source": [
    "from gladier import GladierBaseClient, generate_flow_definition\n",
    "from pprint import pprint\n",
    "import  os"
   ]
  },
  {
   "source": [
    "## Creating the Client"
   ],
   "cell_type": "markdown",
   "metadata": {}
  },
  {
   "cell_type": "code",
   "execution_count": null,
   "metadata": {},
   "outputs": [],
   "source": [
    "@generate_flow_definition\n",
    "class Example_Client(GladierBaseClient):\n",
    "    gladier_tools = [\n",
    "        'gladier_tools.globus.Transfer',\n",
    "        'gladier_tools.posix.Tar',\n",
    "    ]\n",
    "\n",
    "exampleClient = Example_Client()\n"
   ]
  },
  {
   "source": [
    "## Local Variables\n",
    "In order for this example to run correctly. You need to start your own globus personal connect and change the UUID of `local_globus_endpoint`. Take this oportunity to change the filename with something you find amazing."
   ],
   "cell_type": "markdown",
   "metadata": {}
  },
  {
   "cell_type": "code",
   "execution_count": null,
   "metadata": {},
   "outputs": [],
   "source": [
    "##Amazing file name\n",
    "myfile = 'awesome.sauce'\n",
    "\n",
    "##Local Globus UUID\n",
    "local_globus_endpoint='6edd58d2-bfdb-11eb-bddc-5111456017d9'\n"
   ]
  },
  {
   "source": [
    "## General Variables\n",
    "Those are the execution variables that will be used to create the payload for the flow"
   ],
   "cell_type": "markdown",
   "metadata": {}
  },
  {
   "cell_type": "code",
   "execution_count": null,
   "metadata": {},
   "outputs": [],
   "source": [
    "single = os.path.join(os.getcwd(),myfile)\n",
    "\n",
    "if not os.path.isfile(single):\n",
    "    with open(single,\"w\") as file1:\n",
    "        file1.writelines([\"Gladier \\n\",\"Is \\n\",\"Awesome Sauce \\n\"])\n",
    "\n",
    "##parse dirs\n",
    "local_file = os.path.basename(single)\n",
    "local_dir = os.path.dirname(single)\n",
    "\n",
    "dest_file = ''\n",
    "dest_dir = '/home/ubuntu/demo'\n",
    "\n",
    "##Remote endpoints\n",
    "dest_funcx_endpoint = 'a694a32d-8707-4884-b205-3cfc87c4f667'\n",
    "dest_globus_endpoint='2e9e85d0-c4ad-11eb-87e2-559da91cd9a3'\n"
   ]
  },
  {
   "source": [
    "## Flow Input\n",
    "This is the payload that will be transfered at the beggining of the flow. The variable names should match the necessary variables inside the flow."
   ],
   "cell_type": "markdown",
   "metadata": {}
  },
  {
   "cell_type": "code",
   "execution_count": null,
   "metadata": {},
   "outputs": [],
   "source": [
    "base_input = {\n",
    "    \"input\": {\n",
    "        #Processing variables\n",
    "        \"transfer_source_path\": os.path.join(local_dir,local_file),\n",
    "        \"transfer_destination_path\": os.path.join(dest_dir,local_file),\n",
    "        \"tar_input\": os.path.join(dest_dir,local_file),\n",
    "\n",
    "        'transfer_recursive': False,\n",
    "\n",
    "        # funcX endpoints\n",
    "        \"funcx_endpoint_compute\": dest_funcx_endpoint,\n",
    "\n",
    "        # globus endpoints\n",
    "        \"transfer_source_endpoint_id\": local_globus_endpoint,\n",
    "        \"transfer_destination_endpoint_id\": dest_globus_endpoint, \n",
    "    }\n",
    "}\n",
    "\n",
    "pprint(base_input)"
   ]
  },
  {
   "source": [
    "## Running the flow"
   ],
   "cell_type": "markdown",
   "metadata": {}
  },
  {
   "cell_type": "code",
   "execution_count": null,
   "metadata": {},
   "outputs": [],
   "source": [
    "example_flow = exampleClient.run_flow(flow_input=base_input)\n",
    "print(\"  File : \" + base_input[\"input\"][\"transfer_source_path\"])\n",
    "print(\"  UUID : \" + example_flow['action_id'])"
   ]
  },
  {
   "cell_type": "code",
   "execution_count": null,
   "metadata": {},
   "outputs": [],
   "source": []
  }
 ]
}